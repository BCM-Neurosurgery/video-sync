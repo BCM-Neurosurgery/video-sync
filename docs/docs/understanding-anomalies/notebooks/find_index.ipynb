{
 "cells": [
  {
   "cell_type": "code",
   "execution_count": 10,
   "id": "3a084bf0-91e2-4c89-89c4-f9a117958e70",
   "metadata": {},
   "outputs": [],
   "source": [
    "from pyvideosync.videojson import Videojson\n",
    "import pandas as pd"
   ]
  },
  {
   "cell_type": "code",
   "execution_count": 3,
   "id": "d118bb5c-3e6b-427a-beb3-8ef108f0dca9",
   "metadata": {},
   "outputs": [],
   "source": [
    "json_path = \"/mnt/datalake/data/emu/YFBDatafile/VIDEO/YFB/20240503/YFB_20240504_052717.json\"\n",
    "camera_serial = \"18486634\""
   ]
  },
  {
   "cell_type": "code",
   "execution_count": 16,
   "id": "27f58187-ae48-42a4-be7f-dbeae2708dca",
   "metadata": {},
   "outputs": [],
   "source": [
    "videojson = Videojson(json_path)\n",
    "chunk_serial_list = videojson.get_frame_ids_list(camera_serial)"
   ]
  },
  {
   "cell_type": "code",
   "execution_count": 17,
   "id": "53252e27-284c-488c-afe1-92180040f92a",
   "metadata": {},
   "outputs": [],
   "source": [
    "def detect_jumps_from_list(data_list):\n",
    "    \"\"\"\n",
    "    Detect jumps in a list of numbers and return results as a list of dictionaries.\n",
    "\n",
    "    Args:\n",
    "        data_list (list[int]): A list of numerical values to analyze for jumps.\n",
    "\n",
    "    Returns:\n",
    "        list[dict]: A list of dictionaries with details on detected jumps.\n",
    "    \"\"\"\n",
    "    if not data_list:\n",
    "        raise ValueError(\"Input list is empty.\")\n",
    "\n",
    "    prev_values = [None] + data_list[:-1]  # Shift values to compare with previous entry\n",
    "    jumps = [curr - prev if prev is not None else 0 for prev, curr in zip(prev_values, data_list)]  # Calculate jump size\n",
    "\n",
    "    jump_results = [\n",
    "        {\n",
    "            \"index\": idx,\n",
    "            \"prev_value\": prev_values[idx],\n",
    "            \"new_value\": data_list[idx],\n",
    "            \"jump_size\": jumps[idx],\n",
    "        }\n",
    "        for idx in range(1, len(data_list)) if jumps[idx] > 1\n",
    "    ]\n",
    "\n",
    "    return jump_results\n"
   ]
  },
  {
   "cell_type": "code",
   "execution_count": 20,
   "id": "6400ac04-f146-4f4d-a2e0-cf8410bd9d35",
   "metadata": {},
   "outputs": [
    {
     "name": "stdout",
     "output_type": "stream",
     "text": [
      "[{'index': 13031, 'prev_value': 12656, 'new_value': 12658, 'jump_size': 2}]\n"
     ]
    }
   ],
   "source": [
    "jump_results = detect_jumps_from_list(chunk_serial_list)\n",
    "# for jump in jump_results:\n",
    "#     if jump[\"jump_size\"] < 100:\n",
    "#         print(jump)\n",
    "print(jump_results)\n"
   ]
  }
 ],
 "metadata": {
  "kernelspec": {
   "display_name": "Python 3 (ipykernel)",
   "language": "python",
   "name": "python3"
  },
  "language_info": {
   "codemirror_mode": {
    "name": "ipython",
    "version": 3
   },
   "file_extension": ".py",
   "mimetype": "text/x-python",
   "name": "python",
   "nbconvert_exporter": "python",
   "pygments_lexer": "ipython3",
   "version": "3.12.9"
  }
 },
 "nbformat": 4,
 "nbformat_minor": 5
}
