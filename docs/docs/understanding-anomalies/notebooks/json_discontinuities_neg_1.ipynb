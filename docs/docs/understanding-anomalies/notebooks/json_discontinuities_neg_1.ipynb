{
 "cells": [
  {
   "cell_type": "code",
   "execution_count": 1,
   "id": "9f7102d6-9b15-4ca4-906f-2874b5581934",
   "metadata": {},
   "outputs": [],
   "source": [
    "from profiler.discontinuity import detect_discontinuities\n",
    "from pathlib import Path\n",
    "from pyvideosync.data_pool import VideoFilesPool\n",
    "from pyvideosync.videojson import Videojson\n",
    "import json\n",
    "import os\n",
    "from typing import Sequence, Union, Optional, Dict, List"
   ]
  },
  {
   "cell_type": "code",
   "execution_count": 2,
   "id": "86f13c03-925a-41d5-9f00-4988c44c8086",
   "metadata": {},
   "outputs": [],
   "source": [
    "def find_all_drops_to_one(arr: Sequence[Union[int, float]]) -> List[Dict[str, Union[int, float]]]:\n",
    "    \"\"\"Find all points where a sequence value drops to 1 from a higher value.\n",
    "\n",
    "    Scans through a 1-D sequence and detects each position `i` such that\n",
    "    `arr[i] == 1` and `arr[i-1] > 1`. Returns a list of dictionaries containing\n",
    "    the index where the drop occurs and the value immediately before the drop.\n",
    "\n",
    "    Args:\n",
    "        arr (Sequence[int or float]): A sequence (e.g., list or 1-D numpy array)\n",
    "            of numeric values.\n",
    "\n",
    "    Returns:\n",
    "        List[Dict[str, Union[int, float]]]: A list of dicts, each with keys:\n",
    "            - 'index' (int): The position in `arr` where the drop to 1 occurs.\n",
    "            - 'prev_value' (int or float): The value at `arr[index - 1]`, i.e.\n",
    "              the number that dropped down to 1.\n",
    "        Returns an empty list if no drop-to-1 events are found.\n",
    "\n",
    "    Examples:\n",
    "        >>> find_all_drops_to_one([5, 4, 3, 1, 2, 1])\n",
    "        [{'index': 3, 'prev_value': 3}, {'index': 5, 'prev_value': 2}]\n",
    "\n",
    "        >>> find_all_drops_to_one([1, 2, 3, 4])\n",
    "        []\n",
    "\n",
    "        >>> import numpy as np\n",
    "        >>> find_all_drops_to_one(np.array([10, 1, 1, 5, 1]))\n",
    "        [{'index': 1, 'prev_value': 10}, {'index': 4, 'prev_value': 5}]\n",
    "    \"\"\"\n",
    "    if not arr:\n",
    "        return []\n",
    "    drops: List[Dict[str, Union[int, float]]] = []\n",
    "    for i in range(1, len(arr)):\n",
    "        if arr[i] == 1 and arr[i - 1] > 1:\n",
    "            drops.append({\"index\": i, \"prev_value\": arr[i - 1]})\n",
    "    return drops"
   ]
  },
  {
   "cell_type": "code",
   "execution_count": 3,
   "id": "159f31e9-fc0a-478f-9b2b-fe571606f7a7",
   "metadata": {},
   "outputs": [],
   "source": [
    "cam_recording_dir = \"/mnt/datalake/data/TRD-43036/DBSTRD011/CAMERA/\"\n",
    "output_dir = \"/home/auto/CODE/utils/video-sync/Testing/TRD011\"\n",
    "camera_serials = [\"23512011\"]"
   ]
  },
  {
   "cell_type": "code",
   "execution_count": 4,
   "id": "6b09d374-312f-49dc-94ae-1a864df359f5",
   "metadata": {},
   "outputs": [],
   "source": [
    "video_files_pool = VideoFilesPool()\n",
    "for taskfolder in Path(cam_recording_dir).iterdir():\n",
    "    if taskfolder.is_dir():\n",
    "        for datefolder_path in taskfolder.iterdir():\n",
    "            if datefolder_path.is_dir():\n",
    "                for file_path in datefolder_path.iterdir():\n",
    "                    video_files_pool.add_file(str(file_path.resolve()))"
   ]
  },
  {
   "cell_type": "code",
   "execution_count": 5,
   "id": "de0f1e3e-bb48-4c27-96c2-c018eafddfc6",
   "metadata": {},
   "outputs": [],
   "source": [
    "camera_files = video_files_pool.list_groups()"
   ]
  },
  {
   "cell_type": "code",
   "execution_count": 7,
   "id": "c8b2062c-7f8c-4c18-bab9-3ef1d6b6a8d1",
   "metadata": {},
   "outputs": [
    {
     "name": "stdout",
     "output_type": "stream",
     "text": [
      "Warning: JSON file '/mnt/datalake/data/TRD-43036/DBSTRD011/CAMERA/utsw_TRD011_day_1/20240716/utsw_TRD011_day_1_20240716_132730.json' is empty. Initializing empty dictionary.\n",
      "No JSON file found in group 2024-07-19 00:38:15\n",
      "No JSON file found in group 2024-07-19 10:39:55\n",
      "No JSON file found in group 2024-07-22 08:47:14\n",
      "Saved drop‐to‐1 results to /home/auto/CODE/utils/video-sync/Testing/TRD011/serial_drops.json\n"
     ]
    }
   ],
   "source": [
    "results = []\n",
    "for camera_serial in camera_serials:\n",
    "    for timestamp, cam_file_group in camera_files.items():\n",
    "        json_files = [file for file in cam_file_group if file.endswith(\".json\")]\n",
    "        json_path = json_files[0] if json_files else None\n",
    "        if json_path is None:\n",
    "            print(f\"No JSON file found in group {timestamp}\")\n",
    "            continue\n",
    "\n",
    "        videojson = Videojson(json_path)\n",
    "\n",
    "        if not videojson.dic:\n",
    "            continue\n",
    "        chunk_serials = videojson.get_chunk_serial_list(camera_serial)\n",
    "        frame_ids = videojson.get_frame_ids_list(camera_serial)\n",
    "\n",
    "        chunk_drop_to_one = find_all_drops_to_one(chunk_serials)\n",
    "        frame_drop_to_one = find_all_drops_to_one(frame_ids)\n",
    "\n",
    "        if chunk_drop_to_one:\n",
    "            results.append({\n",
    "                \"json\": json_path,\n",
    "                \"chunk_drop_to_one\": chunk_drop_to_one,\n",
    "            })\n",
    "\n",
    "out_name = f\"serial_drops.json\"\n",
    "out_path = os.path.join(output_dir, out_name)\n",
    "with open(out_path, \"w\") as fp:\n",
    "    json.dump(results, fp, indent=4)\n",
    "\n",
    "print(f\"Saved drop‐to‐1 results to {out_path}\")"
   ]
  },
  {
   "cell_type": "code",
   "execution_count": null,
   "id": "24a521ab-83d1-4da6-88b1-6433bd7e1dcb",
   "metadata": {},
   "outputs": [],
   "source": []
  }
 ],
 "metadata": {
  "kernelspec": {
   "display_name": "Python 3 (ipykernel)",
   "language": "python",
   "name": "python3"
  },
  "language_info": {
   "codemirror_mode": {
    "name": "ipython",
    "version": 3
   },
   "file_extension": ".py",
   "mimetype": "text/x-python",
   "name": "python",
   "nbconvert_exporter": "python",
   "pygments_lexer": "ipython3",
   "version": "3.12.9"
  }
 },
 "nbformat": 4,
 "nbformat_minor": 5
}
