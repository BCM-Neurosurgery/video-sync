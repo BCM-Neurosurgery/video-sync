{
 "cells": [
  {
   "cell_type": "code",
   "execution_count": 1,
   "id": "9f7102d6-9b15-4ca4-906f-2874b5581934",
   "metadata": {},
   "outputs": [],
   "source": [
    "from profiler.discontinuity import detect_discontinuities\n",
    "from pathlib import Path\n",
    "from pyvideosync.data_pool import VideoFilesPool\n",
    "from pyvideosync.videojson import Videojson\n",
    "import json\n",
    "import os"
   ]
  },
  {
   "cell_type": "code",
   "execution_count": 2,
   "id": "159f31e9-fc0a-478f-9b2b-fe571606f7a7",
   "metadata": {},
   "outputs": [],
   "source": [
    "cam_recording_dir = \"/mnt/datalake/data/emu/YFBDatafile/VIDEO/YFB\"\n",
    "camera_serials = [\"18486634\", \"23512908\", \"18486644\", \"18486638\", \"23512014\", \"23512906\", \"23512012\", \"23505577\"]"
   ]
  },
  {
   "cell_type": "code",
   "execution_count": 3,
   "id": "6b09d374-312f-49dc-94ae-1a864df359f5",
   "metadata": {},
   "outputs": [],
   "source": [
    "video_files_pool = VideoFilesPool()\n",
    "for datefolder_path in Path(cam_recording_dir).iterdir():\n",
    "    if datefolder_path.is_dir():\n",
    "        for file_path in datefolder_path.iterdir():\n",
    "            video_files_pool.add_file(str(file_path.resolve()))"
   ]
  },
  {
   "cell_type": "code",
   "execution_count": 4,
   "id": "de0f1e3e-bb48-4c27-96c2-c018eafddfc6",
   "metadata": {},
   "outputs": [],
   "source": [
    "camera_files = video_files_pool.list_groups()"
   ]
  },
  {
   "cell_type": "code",
   "execution_count": null,
   "id": "c8b2062c-7f8c-4c18-bab9-3ef1d6b6a8d1",
   "metadata": {},
   "outputs": [
    {
     "name": "stdout",
     "output_type": "stream",
     "text": [
      "No JSON file found in group 2024-05-04 13:04:38\n",
      "No JSON file found in group 2024-05-04 14:07:36\n",
      "No JSON file found in group 2024-05-05 19:44:28\n",
      "No JSON file found in group 2024-05-07 08:34:52\n",
      "No JSON file found in group 2024-05-08 09:40:20\n",
      "No JSON file found in group 2024-05-10 20:37:01\n",
      "No JSON file found in group 2024-05-04 13:04:38\n",
      "No JSON file found in group 2024-05-04 14:07:36\n",
      "No JSON file found in group 2024-05-05 19:44:28\n",
      "No JSON file found in group 2024-05-07 08:34:52\n",
      "No JSON file found in group 2024-05-08 09:40:20\n"
     ]
    }
   ],
   "source": [
    "for camera_serial in camera_serials:\n",
    "    for timestamp, cam_file_group in camera_files.items():\n",
    "        json_files = [file for file in cam_file_group if file.endswith(\".json\")]\n",
    "        json_path = json_files[0] if json_files else None\n",
    "        if json_path is None:\n",
    "            print(f\"No JSON file found in group {timestamp}\")\n",
    "            continue\n",
    "\n",
    "        videojson = Videojson(json_path)\n",
    "        if camera_serial not in videojson.get_camera_serials():\n",
    "            continue\n",
    "\n",
    "        chunk_serials = videojson.get_chunk_serial_list(camera_serial)\n",
    "        frame_ids = videojson.get_frame_ids_list(camera_serial)\n",
    "\n",
    "        chunk_discontiuities = (\n",
    "            detect_discontinuities(chunk_serials)\n",
    "        )\n",
    "\n",
    "        frame_discontinuities = (\n",
    "            detect_discontinuities(frame_ids)\n",
    "        )\n",
    "        \n",
    "        if frame_discontinuities[\"type_iv\"][\"count\"] > 0:\n",
    "            log = f\"Found file {json_path}; {camera_serial}\\n\"\n",
    "            print(log)\n",
    "            with open(\"./temp.log\", \"a\") as f:\n",
    "                f.write(log)\n",
    "            break"
   ]
  },
  {
   "cell_type": "code",
   "execution_count": null,
   "id": "24a521ab-83d1-4da6-88b1-6433bd7e1dcb",
   "metadata": {},
   "outputs": [],
   "source": []
  }
 ],
 "metadata": {
  "kernelspec": {
   "display_name": "Python 3 (ipykernel)",
   "language": "python",
   "name": "python3"
  },
  "language_info": {
   "codemirror_mode": {
    "name": "ipython",
    "version": 3
   },
   "file_extension": ".py",
   "mimetype": "text/x-python",
   "name": "python",
   "nbconvert_exporter": "python",
   "pygments_lexer": "ipython3",
   "version": "3.12.9"
  }
 },
 "nbformat": 4,
 "nbformat_minor": 5
}
