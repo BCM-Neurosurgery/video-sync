{
 "cells": [
  {
   "cell_type": "code",
   "execution_count": 10,
   "id": "0b88ab45-5b72-4552-9db7-8a818cb27573",
   "metadata": {},
   "outputs": [],
   "source": [
    "import json\n",
    "from pyvideosync.videojson import Videojson\n",
    "from profiler.discontinuity import detect_discontinuities"
   ]
  },
  {
   "cell_type": "code",
   "execution_count": 21,
   "id": "3d80bc35-e05c-4da8-b4e9-9427051cabd8",
   "metadata": {},
   "outputs": [],
   "source": [
    "json_path = \"/home/auto/CODE/utils/video-sync/Testing/TRD011/EMU-0222/source-files/utsw_TRD011_day_2_20240717_083441.json\"\n",
    "camera_serial = \"23512011\""
   ]
  },
  {
   "cell_type": "code",
   "execution_count": 22,
   "id": "e4a6ddef-c0a0-40fa-99ae-1008417659ac",
   "metadata": {},
   "outputs": [],
   "source": [
    "with open(json_path, \"r\") as f:\n",
    "    json_dic = json.load(f)"
   ]
  },
  {
   "cell_type": "code",
   "execution_count": 23,
   "id": "c7f5b45f-c7e1-4d1f-848d-aafdf95a3665",
   "metadata": {},
   "outputs": [
    {
     "data": {
      "text/plain": [
       "36000"
      ]
     },
     "execution_count": 23,
     "metadata": {},
     "output_type": "execute_result"
    }
   ],
   "source": [
    "len(json_dic[\"chunk_serial_data\"])"
   ]
  },
  {
   "cell_type": "code",
   "execution_count": 24,
   "id": "7850583d-5bdf-48ec-9850-4f47c3b362c4",
   "metadata": {},
   "outputs": [],
   "source": [
    "videojson = Videojson(json_path)"
   ]
  },
  {
   "cell_type": "code",
   "execution_count": 25,
   "id": "76285f62-7558-4031-b39d-58ca5531e73b",
   "metadata": {},
   "outputs": [
    {
     "data": {
      "text/html": [
       "<div>\n",
       "<style scoped>\n",
       "    .dataframe tbody tr th:only-of-type {\n",
       "        vertical-align: middle;\n",
       "    }\n",
       "\n",
       "    .dataframe tbody tr th {\n",
       "        vertical-align: top;\n",
       "    }\n",
       "\n",
       "    .dataframe thead th {\n",
       "        text-align: right;\n",
       "    }\n",
       "</style>\n",
       "<table border=\"1\" class=\"dataframe\">\n",
       "  <thead>\n",
       "    <tr style=\"text-align: right;\">\n",
       "      <th></th>\n",
       "      <th>chunk_serial_data</th>\n",
       "      <th>frame_ids_reconstructed</th>\n",
       "    </tr>\n",
       "  </thead>\n",
       "  <tbody>\n",
       "    <tr>\n",
       "      <th>0</th>\n",
       "      <td>2775817</td>\n",
       "      <td>48931</td>\n",
       "    </tr>\n",
       "    <tr>\n",
       "      <th>1</th>\n",
       "      <td>2775818</td>\n",
       "      <td>48932</td>\n",
       "    </tr>\n",
       "    <tr>\n",
       "      <th>2</th>\n",
       "      <td>2775819</td>\n",
       "      <td>48933</td>\n",
       "    </tr>\n",
       "    <tr>\n",
       "      <th>3</th>\n",
       "      <td>2775820</td>\n",
       "      <td>48934</td>\n",
       "    </tr>\n",
       "    <tr>\n",
       "      <th>4</th>\n",
       "      <td>2775821</td>\n",
       "      <td>48935</td>\n",
       "    </tr>\n",
       "    <tr>\n",
       "      <th>...</th>\n",
       "      <td>...</td>\n",
       "      <td>...</td>\n",
       "    </tr>\n",
       "    <tr>\n",
       "      <th>35995</th>\n",
       "      <td>2811812</td>\n",
       "      <td>84926</td>\n",
       "    </tr>\n",
       "    <tr>\n",
       "      <th>35996</th>\n",
       "      <td>2811813</td>\n",
       "      <td>84927</td>\n",
       "    </tr>\n",
       "    <tr>\n",
       "      <th>35997</th>\n",
       "      <td>2811814</td>\n",
       "      <td>84928</td>\n",
       "    </tr>\n",
       "    <tr>\n",
       "      <th>35998</th>\n",
       "      <td>2811815</td>\n",
       "      <td>84929</td>\n",
       "    </tr>\n",
       "    <tr>\n",
       "      <th>35999</th>\n",
       "      <td>2811816</td>\n",
       "      <td>84930</td>\n",
       "    </tr>\n",
       "  </tbody>\n",
       "</table>\n",
       "<p>36000 rows × 2 columns</p>\n",
       "</div>"
      ],
      "text/plain": [
       "       chunk_serial_data  frame_ids_reconstructed\n",
       "0                2775817                    48931\n",
       "1                2775818                    48932\n",
       "2                2775819                    48933\n",
       "3                2775820                    48934\n",
       "4                2775821                    48935\n",
       "...                  ...                      ...\n",
       "35995            2811812                    84926\n",
       "35996            2811813                    84927\n",
       "35997            2811814                    84928\n",
       "35998            2811815                    84929\n",
       "35999            2811816                    84930\n",
       "\n",
       "[36000 rows x 2 columns]"
      ]
     },
     "execution_count": 25,
     "metadata": {},
     "output_type": "execute_result"
    }
   ],
   "source": [
    "camera_df = videojson.get_camera_df(camera_serial)\n",
    "camera_df"
   ]
  },
  {
   "cell_type": "code",
   "execution_count": 26,
   "id": "bca02ab9-10d2-4227-916b-9797119c4556",
   "metadata": {},
   "outputs": [],
   "source": [
    "chunk_serials = videojson.get_chunk_serial_list(camera_serial)\n",
    "frame_ids = videojson.get_frame_ids_list(camera_serial)\n",
    "\n",
    "chunk_discontiuities = (\n",
    "    detect_discontinuities(chunk_serials)\n",
    ")\n",
    "\n",
    "frame_discontinuities = (\n",
    "    detect_discontinuities(frame_ids)\n",
    ")"
   ]
  },
  {
   "cell_type": "code",
   "execution_count": 27,
   "id": "74887280-46a7-4544-9427-6b117d86d531",
   "metadata": {},
   "outputs": [
    {
     "data": {
      "text/plain": [
       "36000"
      ]
     },
     "execution_count": 27,
     "metadata": {},
     "output_type": "execute_result"
    }
   ],
   "source": [
    "len(camera_df[\"chunk_serial_data\"])"
   ]
  },
  {
   "cell_type": "code",
   "execution_count": 28,
   "id": "276e02e6-7683-47f9-ac0c-01df59eb6998",
   "metadata": {},
   "outputs": [
    {
     "data": {
      "text/plain": [
       "{'type_i': {'count': 0, 'gaps': []},\n",
       " 'type_ii': {'count': 0, 'gaps': []},\n",
       " 'type_iii': {'count': 0, 'gaps': [], 'differences': {}},\n",
       " 'type_iv': {'count': 0, 'gaps': []}}"
      ]
     },
     "execution_count": 28,
     "metadata": {},
     "output_type": "execute_result"
    }
   ],
   "source": [
    "frame_discontinuities"
   ]
  }
 ],
 "metadata": {
  "kernelspec": {
   "display_name": "Python 3 (ipykernel)",
   "language": "python",
   "name": "python3"
  },
  "language_info": {
   "codemirror_mode": {
    "name": "ipython",
    "version": 3
   },
   "file_extension": ".py",
   "mimetype": "text/x-python",
   "name": "python",
   "nbconvert_exporter": "python",
   "pygments_lexer": "ipython3",
   "version": "3.12.9"
  }
 },
 "nbformat": 4,
 "nbformat_minor": 5
}
